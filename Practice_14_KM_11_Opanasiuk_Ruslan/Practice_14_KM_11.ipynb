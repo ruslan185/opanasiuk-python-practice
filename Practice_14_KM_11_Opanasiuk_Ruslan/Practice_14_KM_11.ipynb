{
  "cells": [
    {
      "cell_type": "markdown",
      "metadata": {
        "id": "FMqboNwO4rVs"
      },
      "source": [
        "# **Курс \"Програмування на мові Python\"**"
      ]
    },
    {
      "cell_type": "markdown",
      "metadata": {
        "id": "A2T6MigL5Z06"
      },
      "source": [
        "## **Практичне зайняття №14**\n",
        "\n",
        "### Тема: \"Робота зі спеціальними форматами файлів\""
      ]
    },
    {
      "cell_type": "markdown",
      "metadata": {
        "id": "A34oz70eU463"
      },
      "source": [
        "### **Завдання 1 (1,5 бали)**\n",
        "\n",
        "Створіть CSV-файл, що буде містити від 5 до 10 пісень (творів) вашого улюбленого музиканта. Назва файлу - ім'я музиканта (композитора) або назва гурту.\n",
        "\n",
        "1. Обов'язково додайте до файлу рядок з назвами двох колонок (Song, Year) або (Composition, Year).\n",
        "\n",
        "2. Після запису файлу роздрукуйте назву файлу та усі наявні у файлі рядки (включно із заголовками).\n",
        "\n",
        "3. Для запису та зчитування рядків скористайтесь функціями csv.DictWriter() та csv.DictReader()."
      ]
    },
    {
      "cell_type": "code",
      "execution_count": 2,
      "metadata": {
        "id": "MEJIrG1GU463"
      },
      "outputs": [
        {
          "name": "stdout",
          "output_type": "stream",
          "text": [
            "linkin_park.csv\n",
            "\n",
            "song year \n",
            "-----------------------\n",
            "Numb 2003\n",
            "In The End 2001\n",
            "Breaking The Habit 2004\n",
            "What I’ve Done 2007\n",
            "New Divide 2009\n"
          ]
        }
      ],
      "source": [
        "import csv\n",
        "with open('linkin_park.csv', 'w', newline='') as csvfile:\n",
        "    fieldnames = ['song', 'year']\n",
        "    writer = csv.DictWriter(csvfile, fieldnames=fieldnames)\n",
        "    writer.writeheader()\n",
        "    writer.writerow({'song': 'Numb', 'year': '2003',})\n",
        "    writer.writerow({'song': 'In The End', 'year': '2001',})\n",
        "    writer.writerow({'song': 'Breaking The Habit', 'year': '2004',})\n",
        "    writer.writerow({'song': 'What I’ve Done', 'year': '2007',})\n",
        "    writer.writerow({'song': 'New Divide', 'year': '2009',})\n",
        "\n",
        "with open('linkin_park.csv', newline='') as csvfile:\n",
        "    reader = csv.DictReader(csvfile)\n",
        "    print('linkin_park.csv\\n')\n",
        "    [print(heading, end=' ') for heading in reader.fieldnames]\n",
        "    print()\n",
        "    print('-'*23)\n",
        "    [print(row['song'], row['year']) for row in reader]"
      ]
    },
    {
      "cell_type": "markdown",
      "metadata": {
        "id": "Jb-eSBsWU464"
      },
      "source": [
        "### **Завдання 2 (1,5 бали)**\n",
        "\n",
        "COCO Dataset - набір фотографій та анотацій до них. Його дуже часто використовують для тренування класифікаторів, призначених для розпізнавання об'єктів та визначення ключових точок на зображеннях.\n",
        "\n",
        "Завантажте файли з описом фотографій COCO Dataset за посиланням: [COCO Dataset](http://images.cocodataset.org/annotations/image_info_test2017.zip).\n",
        "\n",
        "Відкрийте файл image_info_test-dev2017.json. Інформація про фотографії з бази COCO міститься у полі \"images\". Інформація про категорії, на які розділені всі фотографії, міститься у полі \"categories\".\n",
        "\n",
        "1. Визначте кількість фотографій, інформацію про які можна знайти у цьому файлі (кількість елементів, що відповідають ключу \"images\").\n",
        "\n",
        "2. Визначте кількість наявних категорій (кількість елементів, що відповідають ключу \"categories\").\n",
        "\n",
        "3. Виведіть посилання на фотографію 000000000001.jpg (\"coco_url\"). Також виведіть висоту цієї фотографії (\"height\"), ширину (\"width\") та її ідентифікатор (\"id\").\n",
        "\n",
        "4. Виведіть назву фотографії з набільшим номером.\n",
        "\n",
        "Опис структури JSON-файлу для набору фотографій COCO можна знайти за посиланням: [Data format](https://cocodataset.org/#format-data).\n",
        "\n",
        "Щоб перевірити правильність результатів, у VS Code встановіть розширення JSON та відкрийте файл image_info_test-dev2017.json. Розширення автоматично визначає кількість елементів у кожному полі."
      ]
    },
    {
      "cell_type": "code",
      "execution_count": 1,
      "metadata": {},
      "outputs": [
        {
          "name": "stdout",
          "output_type": "stream",
          "text": [
            "20288 images in 80 categories\n",
            "url: http://images.cocodataset.org/test2017/000000000001.jpg\n",
            "dim: 480x640\n",
            "id: 1\n",
            "biggest number: 000000581918.jpg\n"
          ]
        }
      ],
      "source": [
        "import json\n",
        "\n",
        "with open('image_info_test2017\\\\annotations\\image_info_test-dev2017.json') as f:\n",
        "    data = json.load(f)\n",
        "\n",
        "    print(f'{len(data[\"images\"])} images in {len(data[\"categories\"])} categories')\n",
        "    a = []\n",
        "    for el in data['images']:\n",
        "        if el['file_name'] == '000000000001.jpg':\n",
        "            needed_el = el\n",
        "            print(f\"url: {needed_el['coco_url']}\")\n",
        "            print(f\"dim: {needed_el['height']}x{needed_el['width']}\")\n",
        "            print(f\"id: {needed_el['id']}\")\n",
        "        a.append((el['file_name']).replace('.jpg', ''))\n",
        "    print(f\"biggest number: {max(a)+'.jpg'}\")\n",
        "\n"
      ]
    }
  ],
  "metadata": {
    "colab": {
      "collapsed_sections": [],
      "name": "Practice_14_KM_01.ipynb",
      "provenance": []
    },
    "kernelspec": {
      "display_name": "Python 3",
      "name": "python3"
    },
    "language_info": {
      "codemirror_mode": {
        "name": "ipython",
        "version": 3
      },
      "file_extension": ".py",
      "mimetype": "text/x-python",
      "name": "python",
      "nbconvert_exporter": "python",
      "pygments_lexer": "ipython3",
      "version": "3.10.0"
    }
  },
  "nbformat": 4,
  "nbformat_minor": 0
}
