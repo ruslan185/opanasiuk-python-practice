{
  "cells": [
    {
      "cell_type": "markdown",
      "metadata": {
        "id": "FMqboNwO4rVs"
      },
      "source": [
        "# **Курс \"Програмування на мові Python\"**"
      ]
    },
    {
      "cell_type": "markdown",
      "metadata": {
        "id": "A2T6MigL5Z06"
      },
      "source": [
        "## **Практичне зайняття №9**\n",
        "\n",
        "### Тема: \"Робота з функціями. Локальні та глобальні змінні\""
      ]
    },
    {
      "cell_type": "markdown",
      "metadata": {
        "id": "cfCdgK2zXm7e"
      },
      "source": [
        "### **Завдання 1 (3 бали)**\n",
        "\n",
        "**Підрахувати визначник матриці, використовуючи правило перестановок.**\n",
        "\n",
        "Функція random_matrix() призначена для створення квадратної матриці випадкових чисел. Її змінювати непотрібно.\n",
        "\n",
        "Приклад використання методу permutations() для створення списку перестановок також подається у комірці з кодом.\n",
        "\n",
        "1) Створити 3 функції: функцію створення списку перестановок, функцію підрахунку добутків та функцію підрахунку загальної суми.\n",
        "\n",
        "2) Кожна функція має супроводжуватись рядком документації, що буде коротко описувати її призначення.\n",
        "\n",
        "3) Розмірність квадратної матриці має вводитись користувачем з клавіатури. Підрахунки виконувати лише в тому разі, якщо користувач введе ціле додатне число.\n",
        "\n",
        "4) Загальний результат повинен підраховуватись за допомогою композиції функцій.\n",
        "\n",
        "За бажанням можна перевірити правильність роботи програми за допомогою функції np.linalg.det(a)."
      ]
    },
    {
      "cell_type": "code",
      "execution_count": 13,
      "metadata": {
        "id": "ifNX2M7LXm7f"
      },
      "outputs": [
        {
          "name": "stdout",
          "output_type": "stream",
          "text": [
            "Matrix:\n",
            " [[6 1 8 6]\n",
            " [9 6 1 7]\n",
            " [9 7 7 1]\n",
            " [0 8 7 4]]\n",
            "Result: 5706\n",
            "NumPy's reference result: 5706\n"
          ]
        }
      ],
      "source": [
        "import numpy as np\n",
        "import itertools\n",
        "\n",
        "\n",
        "def random_matrix(dim):\n",
        "    \"\"\"\n",
        "    The function generates dim x dim array of integers\n",
        "    between 0 and 10.\n",
        "    \"\"\"\n",
        "    matrix = np.random.randint(10, size=(dim, dim))\n",
        "    return matrix\n",
        "\n",
        "\n",
        "def det(matrix):\n",
        "    \"\"\"\n",
        "    The function calculates the sum of the products\n",
        "    of permutations.\n",
        "    \"\"\"\n",
        "    pi = (list(itertools.permutations(range(len(matrix)), len(matrix))))\n",
        "    res = 0\n",
        "    for p in pi:\n",
        "        mul = sign(p)\n",
        "        for i in range(n):\n",
        "            mul *= matrix[i][p[i]]\n",
        "        res += mul\n",
        "    return res\n",
        "\n",
        "\n",
        "def sign(p):\n",
        "    \"\"\"\n",
        "    The function  reads the sign in front of each\n",
        "    multiplication group.\n",
        "    \"\"\"\n",
        "    k = 0\n",
        "    n = len(p)\n",
        "    for i in range(n):\n",
        "        for j in range(i + 1, n):\n",
        "            if p[i] > p[j]:\n",
        "                k += 1\n",
        "    return -1 if k % 2 else 1\n",
        "\n",
        "\n",
        "while True:\n",
        "    try:\n",
        "        n = int(input('Input n(>0): '))\n",
        "        if n <= 0:\n",
        "            raise Exception('error')\n",
        "        break\n",
        "    except Exception as e:\n",
        "        print(e)\n",
        "        continue\n",
        "matrix = random_matrix(n)\n",
        "print('Matrix:\\n', matrix)\n",
        "print('Result:', (det(matrix)))\n",
        "print('NumPy\\'s reference result:', round(np.linalg.det(matrix)))\n",
        "\n"
      ]
    }
  ],
  "metadata": {
    "colab": {
      "collapsed_sections": [],
      "name": "Practice_7_KM-01_.ipynb",
      "provenance": []
    },
    "interpreter": {
      "hash": "e044571eea6db7cd05b8f410a927871ef50beec94f839874ad1c99ce850a1619"
    },
    "kernelspec": {
      "display_name": "Python 3.9.1 64-bit",
      "name": "python3"
    },
    "language_info": {
      "codemirror_mode": {
        "name": "ipython",
        "version": 3
      },
      "file_extension": ".py",
      "mimetype": "text/x-python",
      "name": "python",
      "nbconvert_exporter": "python",
      "pygments_lexer": "ipython3",
      "version": "3.9.1"
    }
  },
  "nbformat": 4,
  "nbformat_minor": 0
}
