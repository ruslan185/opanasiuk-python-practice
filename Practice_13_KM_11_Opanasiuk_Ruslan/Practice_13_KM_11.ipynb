{
  "cells": [
    {
      "cell_type": "markdown",
      "metadata": {
        "id": "FMqboNwO4rVs"
      },
      "source": [
        "# **Курс \"Програмування на мові Python\"**"
      ]
    },
    {
      "cell_type": "markdown",
      "metadata": {
        "id": "A2T6MigL5Z06"
      },
      "source": [
        "## **Практичне зайняття №13**\n",
        "\n",
        "### Тема: \"Робота з файлами\""
      ]
    },
    {
      "cell_type": "markdown",
      "metadata": {
        "id": "cfCdgK2zXm7e"
      },
      "source": [
        "### **Завдання 1 (1,5 бали)**\n",
        "\n",
        "У 1939 році друком вийшов роман американського письменика Ернеста Вінсента Райта \"Ґетсбі\". Особливу увагу публіки він здобув через те, що письменник жодного разу не використав у романі літеру \"e\" (роман складається з більше ніж 50,000 слів), яка є найбільш вживаною літерою в англійській мові.\n",
        "\n",
        "Порахуйте кількість входжень кожної літери у текст роману. Виведіть список літер англійського алфавіту, а також інформацію про те, скільки відсотків від усіх літер тексту складає кожна літера алфавіту.\n",
        "\n",
        "Зауваження:\n",
        "\n",
        "1. Програма має ігнорувати будь-які символи, окрім літер.\n",
        "\n",
        "2. Переведіть усі літери у верхній або у нижній регістр.\n",
        "\n",
        "3. Під час виведення відсортуйте літери у порядку зменшення їхнього відсотка. Літера \"e\" має стояти на останньому місці у цьому списку (хоча кілька літер e там все ж таки зустрічається).\n",
        "\n",
        "4. Виведіть перші 5 та останні 5 літер відсортованого списку разом з відсотковими значеннями, що їм відповідають. Відсотки округліть до тисячних."
      ]
    },
    {
      "cell_type": "code",
      "execution_count": 140,
      "metadata": {
        "id": "u4-fHJJ6U462",
        "tags": [
          "outputPrepend"
        ]
      },
      "outputs": [
        {
          "name": "stdout",
          "output_type": "stream",
          "text": [
            "a: 10.99%\n",
            "o: 10.652%\n",
            "i: 8.769%\n",
            "n: 8.671%\n",
            "t: 8.665%\n",
            "...\n",
            "j: 0.169%\n",
            "z: 0.103%\n",
            "q: 0.053%\n",
            "x: 0.049%\n",
            "e: 0.002%\n"
          ]
        }
      ],
      "source": [
        "import string\n",
        "\n",
        "with open('gadsby.txt', 'r') as file:\n",
        "    data = [*''.join(file.readlines()[117:])]\n",
        "\n",
        "a = [\n",
        "    (sum(string.ascii_lowercase[i] == j for j in data)) \n",
        "    for i in range(len(string.ascii_lowercase))\n",
        "    ]\n",
        "\n",
        "b = sorted([\n",
        "    [string.ascii_lowercase[i], round((a[i]/sum(a))*100,3)] \n",
        "    for i in range(len(string.ascii_lowercase))\n",
        "    ], key=lambda n: n[1], reverse=True)\n",
        "\n",
        "finish = [(f'{j[0]}: {j[1]}%') for j in b]\n",
        "\n",
        "for el in finish[:5]:\n",
        "    print(el,)\n",
        "print('.'*3)\n",
        "for el in finish[-5:]:\n",
        "    print(el)"
      ]
    },
    {
      "cell_type": "markdown",
      "metadata": {
        "id": "A34oz70eU463"
      },
      "source": [
        "### **Завдання 2 (1,5 бали)**\n",
        "\n",
        "Архів archive.zip містить 140 txt-файлів, в яких збережено інфорамцію про те, якими іменами називали дітей у США в період з 1880 по 2019 рік.\n",
        "\n",
        "Структура рядка кожного файлу така:\n",
        "\n",
        "*name,sex,number_of_occurrences*\n",
        "\n",
        "Напишіть програму, яка зчитуватиме кожен файл та визначатиме окремо чоловічі, окремо жіночі імена, що були найпопулярнішими хоча б в один з років. Далі програма повинна підраховувати, скільки разів кожне з цих імен ставало найпопулярнишим, та виводити ранжовані списки чоловічіх та жіночих імен у вигляді:\n",
        "\n",
        "```\n",
        "Michael 44\n",
        "John 44\n",
        "Robert 17\n",
        "...\n",
        "\n",
        "Mary 76\n",
        "Jennifer 15\n",
        "Emily 12\n",
        "...\n",
        "```"
      ]
    },
    {
      "cell_type": "code",
      "execution_count": 142,
      "metadata": {},
      "outputs": [
        {
          "name": "stdout",
          "output_type": "stream",
          "text": [
            "male:\n",
            "John 44\n",
            "Michael 44\n",
            "Robert 17\n",
            "Jacob 14\n",
            "James 13\n",
            "Noah 4\n",
            "Liam 3\n",
            "David 1\n",
            "\n",
            "female:\n",
            "Mary 76\n",
            "Jennifer 15\n",
            "Emily 12\n",
            "Jessica 9\n",
            "Lisa 8\n",
            "Linda 6\n",
            "Emma 6\n",
            "Sophia 3\n",
            "Ashley 2\n",
            "Isabella 2\n",
            "Olivia 1\n"
          ]
        }
      ],
      "source": [
        "a = []\n",
        "for i in range(1880, 2020):\n",
        "    with open(f'archive\\yob{i}.txt', 'r') as file:\n",
        "        data = file.readlines()\n",
        "        \n",
        "        for el in data:\n",
        "            el = el.split(',')\n",
        "            if el[1] == 'M':\n",
        "                a.append(data[0].split(','))\n",
        "                a.append(el)\n",
        "                break\n",
        "\n",
        "F = []\n",
        "M = []\n",
        "[F.append(el[0]) if el[1] == 'F' else M.append(el[0]) for el in a]\n",
        "\n",
        "print('male:')\n",
        "list_d = list({i: M.count(i) for i in M}.items())\n",
        "list_d.sort(key=lambda i: i[1], reverse=True)\n",
        "for i in list_d:\n",
        "    print(i[0], i[1])\n",
        "\n",
        "print('\\nfemale:')\n",
        "list_d = list({i: F.count(i) for i in F}.items())\n",
        "list_d.sort(key=lambda i: i[1], reverse=True)\n",
        "for i in list_d:\n",
        "    print(i[0], i[1])\n",
        "    \n"
      ]
    }
  ],
  "metadata": {
    "colab": {
      "collapsed_sections": [],
      "name": "Practice_14_KM_01.ipynb",
      "provenance": []
    },
    "kernelspec": {
      "display_name": "Python 3",
      "name": "python3"
    },
    "language_info": {
      "codemirror_mode": {
        "name": "ipython",
        "version": 3
      },
      "file_extension": ".py",
      "mimetype": "text/x-python",
      "name": "python",
      "nbconvert_exporter": "python",
      "pygments_lexer": "ipython3",
      "version": "3.10.0"
    }
  },
  "nbformat": 4,
  "nbformat_minor": 0
}
