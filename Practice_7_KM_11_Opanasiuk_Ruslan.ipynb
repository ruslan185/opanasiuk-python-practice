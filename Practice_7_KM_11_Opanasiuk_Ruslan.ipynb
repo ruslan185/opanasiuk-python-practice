{
  "cells": [
    {
      "cell_type": "markdown",
      "metadata": {
        "id": "FMqboNwO4rVs"
      },
      "source": [
        "# **Курс \"Програмування на мові Python\"**"
      ]
    },
    {
      "cell_type": "markdown",
      "metadata": {
        "id": "A2T6MigL5Z06"
      },
      "source": [
        "## **Практичне зайняття №7**\n",
        "\n",
        "### Тема: \"Робота з рядками. Глибокі копії об'єктів.\""
      ]
    },
    {
      "cell_type": "markdown",
      "metadata": {},
      "source": []
    },
    {
      "cell_type": "markdown",
      "metadata": {},
      "source": [
        "### **Завдання 1 (1 бал)**\n",
        "\n",
        "Створіть рядок формату, що дозволить отримати дані з кортежу format_tuple та вивести рядок:\n",
        "\n",
        "*Euler first used **pi** = **3.14** in his **1736** work **Mechanica**, and continued in his widely-read **1748** work Introductio in analysin infinitorum. In hexadecimal system, **pi** is **0x1.91eb851eb851fp+1**.*\n",
        "\n",
        "У рядку формату мають бути 7 заповнювачів (слово pi повторюється двічі, число 3.1415 також використовується двічі). У методі format() мають бути звернення безпосередньо до елементів кортежу.\n",
        "\n",
        "1. Для округлення значень скористайтесь функцією round().\n",
        "\n",
        "2. Щоб конвертувати число типу float у шістнадцяткову форму, скористайтесь методом float.hex().  Щоб отримати потрібне шістнадцяткове представлення, конвертуйте значення pi, округлене до сотих (https://python-reference.readthedocs.io/en/latest/docs/float/hex.html)."
      ]
    },
    {
      "cell_type": "code",
      "execution_count": 1,
      "metadata": {},
      "outputs": [],
      "source": [
        "format_tuple = (1736, 3.1415, 'pi', 1748, 'Mechanica')\n",
        "print(f'''Euler first used {format_tuple[2]} = {round(format_tuple[1], 2)} in his {format_tuple[0]}\n",
        "work {format_tuple[-1]}, and continued in his widely-read {format_tuple[-2]} work Introductio\n",
        "analysin infinitorum. In hexadecimal system, {format_tuple[2]} is {float.hex(round(format_tuple[1], 2))}''')"
      ]
    },
    {
      "cell_type": "markdown",
      "metadata": {},
      "source": [
        "### **Завдання 2 (2 бали)**\n",
        "\n",
        "*RGB (скорочено від англ. Red, Green, Blue — червоний, зелений, синій) — адитивна колірна модель, що описує спосіб синтезу кольору, за якою червоне, зелене та синє світло накладаються разом, змішуючись у різноманітні кольори. У моделі RGB колір кодується градаціями складових каналів (Red, Green, Blue). Кожен канал може набувати цілого значення на інтервалі [0; 255]. Наприклад, (255, 0, 0) - червоний колір, (0, 255, 0) - зелений, (255, 255, 0) - жовтий тощо. Візуалізувати кольори за кодами можна за посиланням:*\n",
        "\n",
        "*https://www.w3schools.com/colors/colors_rgb.asp*\n",
        "\n",
        "*Досить часто, особливо у веб-програмуванні, можна зустріти шістнадцяткове представлення кольорів. Щоб з шістнадцяткового представлення отримати десяткове, потрібно розбити 6 шістнадцяткових значень на 3 групи по 2 значення і конвертувати кожну пару шістнадцяткових значень у десяткові числа.*\n",
        "\n",
        "Написати програму, яка конвертуватиме шістнадцяткове представлення кольору у десятковий формат. Програма має приймати на вхід 6 символів (цифри 0-9 або літери A-F) та конвертувати їх у три цілі числа.\n",
        "\n",
        "1. Програма повинна перевіряти правильність введених користувачем значень. Користувач повинен ввести рівно 6 допустимих символів.\n",
        "\n",
        "2. Під час конвертації чисел з шістнадцяткової у десяткову систему числення *не можна* використовувати вбудованих функцій або функцій сторонніх бібліотек.\n",
        "\n",
        "Покроковий опис процесу конвертації подано за посиланням:\n",
        "\n",
        "https://www.developintelligence.com/blog/2017/02/rgb-to-hex-understanding-the-major-web-color-codes/"
      ]
    },
    {
      "cell_type": "code",
      "execution_count": 1,
      "metadata": {},
      "outputs": [
        {
          "name": "stdout",
          "output_type": "stream",
          "text": [
            "RGB -> (17,17,17)\n"
          ]
        }
      ],
      "source": [
        "while True:\n",
        "    el = input('Input 6 symbols for RGB in hex: ')\n",
        "    try:\n",
        "        R = int(float.fromhex(el[0:2]))\n",
        "        G = int(float.fromhex(el[2:4]))\n",
        "        B = int(float.fromhex(el[4:]))\n",
        "    except:\n",
        "        print('Error, you can enter A-F 0-9, try again please')\n",
        "        continue\n",
        "    else:\n",
        "        if (0 <= R <= 255) and (0 <= G <= 255) and (0 <= B <= 255):\n",
        "            print(f'RGB -> ({R},{G},{B})')\n",
        "            break "
      ]
    }
  ],
  "metadata": {
    "colab": {
      "collapsed_sections": [
        "LyWSBl0DOxJ8",
        "5qzvb1n_va3D",
        "fRXqCrBOmwAX"
      ],
      "name": "Practice_6.ipynb",
      "provenance": []
    },
    "interpreter": {
      "hash": "e044571eea6db7cd05b8f410a927871ef50beec94f839874ad1c99ce850a1619"
    },
    "kernelspec": {
      "display_name": "Python 3.9.1 64-bit",
      "name": "python3"
    },
    "language_info": {
      "codemirror_mode": {
        "name": "ipython",
        "version": 3
      },
      "file_extension": ".py",
      "mimetype": "text/x-python",
      "name": "python",
      "nbconvert_exporter": "python",
      "pygments_lexer": "ipython3",
      "version": "3.9.1"
    }
  },
  "nbformat": 4,
  "nbformat_minor": 0
}
