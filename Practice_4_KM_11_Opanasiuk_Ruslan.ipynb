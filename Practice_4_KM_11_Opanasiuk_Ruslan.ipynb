{
  "nbformat": 4,
  "nbformat_minor": 2,
  "metadata": {
    "colab": {
      "name": "Pranctice_3_KM-01_<name>.ipynb",
      "provenance": [],
      "collapsed_sections": []
    },
    "kernelspec": {
      "name": "python3",
      "display_name": "Python 3"
    }
  },
  "cells": [
    {
      "cell_type": "markdown",
      "source": [
        "# **Курс \"Програмування на мові Python\"**"
      ],
      "metadata": {
        "id": "1bRxWHr5e8kt"
      }
    },
    {
      "cell_type": "markdown",
      "source": [
        "## **Практичне зайняття №3**\n",
        "### Тема: \"Перші програми на Python. Введення та виведення даних. Інструкція if\""
      ],
      "metadata": {
        "id": "buZUwUgFe-kx"
      }
    },
    {
      "cell_type": "markdown",
      "source": [
        "### **Завдання 1 (1,5 бали)**\n",
        "\n"
      ],
      "metadata": {
        "id": "PUkxEn8EfAUe"
      }
    },
    {
      "cell_type": "markdown",
      "source": [
        "**Написати програму введення та виведення даних про одержувача листа (посилки) за стандартами Укрпошти.**\r\n",
        "\r\n",
        "1. Усі запити на введення даних повинні супроводжуватись відповідними підказками-поясненнями (бажано англійською мовою).\r\n",
        "\r\n",
        "2. Дані мають виводитись так, як показано нижче (з урахуванням кількості рядків та послідовності даних у кожному з них).\r\n",
        "\r\n",
        "3. Дані, виділені жирним шрифтом, повинні вводитись із клавіатури. Всього має бути 9 окремих команд введення даних\r\n",
        "\r\n",
        "4. Назви змінних повинні бути інформативними та оформленими відповідно до правил іменування змінних\r\n",
        "\r\n",
        "5. Додати 2 коментарі, що вказують на блоки введення та виведення даних.\r\n",
        "\r\n",
        "***Формат виведення даних:***\r\n",
        "\r\n",
        "(1) **Ім'я** (2) **Прізвище**\r\n",
        "\r\n",
        "(3) **Номер телефону**\r\n",
        "\r\n",
        "Str. (4) **Назва вулиці** (5) **Номер будинку**, ap. (6) **Номер квартири**, (7) **Місто**\r\n",
        "\r\n",
        "(8) **Індекс**\r\n",
        "\r\n",
        "(9) **Країна**\r\n",
        "\r\n",
        "***Приклад виведення:***\r\n",
        "\r\n",
        "*Lucas Diallo*\r\n",
        "\r\n",
        "*3221234567*\r\n",
        "\r\n",
        "*Str. Longue 3, ap. 5, Bruxelles*\r\n",
        "\r\n",
        "*1020*\r\n",
        "\r\n",
        "*Belgium*"
      ],
      "metadata": {
        "id": "M7jjwxAvfKa2"
      }
    },
    {
      "cell_type": "code",
      "execution_count": null,
      "source": [
        "# unit input\r\n",
        "name = input('Input your name: ')\r\n",
        "last_name = input('Input your last name: ')\r\n",
        "phone = input('Input your phone number: ')\r\n",
        "street = input('Input your street name: ')\r\n",
        "home_number = input('Input your home number: ')\r\n",
        "flat_number = input('Input your flat number: ')\r\n",
        "town = input('Input your town: ')\r\n",
        "index = input('Input your index: ')\r\n",
        "country = input('Input your country: ')\r\n",
        "# unit print\r\n",
        "print(name+' '+last_name)\r\n",
        "print(phone)\r\n",
        "print('Str.'+' '+street+' '+str(home_number)+', '+'ap.'+' '+str(flat_number)+', '+town)\r\n",
        "print(index)\r\n",
        "print(country)"
      ],
      "outputs": [],
      "metadata": {}
    },
    {
      "cell_type": "markdown",
      "source": [
        "### **Завдання 2 (1,5 бали)**"
      ],
      "metadata": {
        "id": "WmnpKrmPf689"
      }
    },
    {
      "cell_type": "markdown",
      "source": [
        "Таблиця містить магнітуду землетрусів за шкалою Ріхтера та дескриптори, що їй відповідають.\r\n",
        "\r\n",
        "Магнітуда | Дескриптор\r\n",
        "--- | ---\r\n",
        "Менше, ніж 2 | Micro\r\n",
        "Від 2 до менше ніж 3 | Very minor\r\n",
        "Від 3 до менше ніж 4 | Minor\r\n",
        "Від 4 до менше ніж 5 | Light\r\n",
        "Від 5 до менше ніж 6 | Moderate\r\n",
        "Від 6 до менше ніж 7 | Strong\r\n",
        "Від 7 до менше ніж 8 | Major\r\n",
        "Від 8 до менше ніж 10 | Great\r\n",
        "10 та більше | Meteoric\r\n",
        "\r\n",
        "Напишіть програму, яка буде зчитувати магнітуду, введену користувачем, та виводити відповідний дескриптор як частину змістовного повідомлення. Наприклад, якщо користувач вводить 5.5, ваша програма повинна показати, що землетрус з такою магнітудою є помірним (moderate)."
      ],
      "metadata": {
        "id": "4n4p_pz7gFKM"
      }
    },
    {
      "cell_type": "code",
      "execution_count": null,
      "source": [
        "x = float(input('Input the earthquake magnet '))\r\n",
        "sentence = 'An earthquake of this magnitude - '\r\n",
        "if x < 2:\r\n",
        "    print(sentence+'micro')\r\n",
        "elif x < 3:\r\n",
        "    print(sentence+'very minor')\r\n",
        "elif x < 4:\r\n",
        "    print(sentence+'minor')\r\n",
        "elif x < 5:\r\n",
        "    print(sentence+'light')\r\n",
        "elif x < 6:\r\n",
        "    print(sentence+'moderate')\r\n",
        "elif x < 7:\r\n",
        "    print(sentence+'strong')\r\n",
        "elif x < 8:\r\n",
        "    print(sentence+'major')\r\n",
        "elif x < 10:\r\n",
        "    print(sentence+'great')\r\n",
        "else:\r\n",
        "    print(sentence+'meteoric')"
      ],
      "outputs": [],
      "metadata": {
        "id": "Nv66Jkkpf-sI"
      }
    },
    {
      "cell_type": "markdown",
      "source": [
        "### **Завдання 3 (бонусне, 1 бал)**"
      ],
      "metadata": {
        "id": "X8fC_GM_nMRi"
      }
    },
    {
      "cell_type": "markdown",
      "source": [
        "Часто говорять, що один календарний рік еквівалентний 7 рокам для собаки. Однак таке просте перетворення не враховує того, що собаки досягають повноліття приблизно у 2 роки. Тому деякі люди вважать, що краще рахувати кожен з перших двох календарних років як 10,5 років для собаки, а потім рахувати кожен наступний календарний рік як 4 роки для собаки.\n",
        "\n",
        "Напишіть програму, яка конвертує календарні роки у \"собачі\", як було показано в попередньому абзаці. Переконайтесь, що ваша програма працює правильно, конвертуючи перші два календарні роки та всі подальші. Ваша програма також повинна виводити повідомлення про помилку, якщо користувач введе від'ємне число."
      ],
      "metadata": {
        "id": "b593txPwotgN"
      }
    },
    {
      "cell_type": "code",
      "execution_count": null,
      "source": [
        "x = float(input('Input calendar years '))\r\n",
        "if x <= 0:\r\n",
        "    print('Error, the number cannot be negative or zero')\r\n",
        "elif x > 2:\r\n",
        "    print('In canine years - ' + str((x-2)*4+2*10.5))\r\n",
        "else:\r\n",
        "    print('In canine years - ' + str(x*10.5))"
      ],
      "outputs": [],
      "metadata": {
        "id": "PA_E_H0Zosu0"
      }
    }
  ]
}